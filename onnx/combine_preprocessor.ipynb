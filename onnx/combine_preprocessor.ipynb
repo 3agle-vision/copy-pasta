{
 "cells": [
  {
   "cell_type": "markdown",
   "id": "64077e09",
   "metadata": {},
   "source": [
    "## ONNX Model Pipeline: Preprocessor + Linear Regression\n",
    "\n",
    "This Snippet demonstrates how to:\n",
    "- Create a preprocessor ONNX model that expands a single input into 4 values (arithmetic progression).\n",
    "- Train a scikit-learn Linear Regression model and export it to ONNX.\n",
    "- Merge both models into a single ONNX file for end-to-end inference.\n",
    "\n",
    "\n",
    "📋 Requirements\n",
    "```bash\n",
    "pip install numpy scikit-learn onnx onnxruntime skl2onnx\n",
    "```"
   ]
  },
  {
   "cell_type": "code",
   "execution_count": 17,
   "id": "4b883c4c",
   "metadata": {},
   "outputs": [],
   "source": [
    "import numpy as np\n",
    "from sklearn.linear_model import LinearRegression\n",
    "from sklearn.model_selection import train_test_split\n",
    "from sklearn.metrics import mean_squared_error\n"
   ]
  },
  {
   "cell_type": "code",
   "execution_count": 18,
   "id": "0ec8952c",
   "metadata": {},
   "outputs": [
    {
     "name": "stdout",
     "output_type": "stream",
     "text": [
      "Mean Squared Error: 0.0084\n",
      "Coefficients: [ 2.05313757  2.93184642 -1.48006291  0.47695218]\n",
      "Intercept: 0.0115\n",
      "Predicted output for [0.5 0.3 0.2 0.4]: 1.8123\n"
     ]
    }
   ],
   "source": [
    "# Sample dataset with 4 features (X) and 1 target (y)\n",
    "# Let's assume we have 100 samples\n",
    "np.random.seed(42)\n",
    "X = np.random.rand(100, 4)  # 100 samples, 4 features\n",
    "y = 2 * X[:, 0] + 3 * X[:, 1] - 1.5 * X[:, 2] + 0.5 * X[:, 3] + np.random.normal(0, 0.1, 100)  # Linear relationship with noise\n",
    "\n",
    "# Split the data into training and testing sets\n",
    "X_train, X_test, y_train, y_test = train_test_split(X, y, test_size=0.2, random_state=42)\n",
    "\n",
    "# Initialize and train the Linear Regression model\n",
    "model = LinearRegression()\n",
    "model.fit(X_train, y_train)\n",
    "\n",
    "# Make predictions on the test set\n",
    "y_pred = model.predict(X_test)\n",
    "\n",
    "# Evaluate the model\n",
    "mse = mean_squared_error(y_test, y_pred)\n",
    "print(f\"Mean Squared Error: {mse:.4f}\")\n",
    "print(f\"Coefficients: {model.coef_}\")       # Learned coefficients for each feature\n",
    "print(f\"Intercept: {model.intercept_:.4f}\") # Learned intercept\n",
    "\n",
    "# Example prediction for a new input (4 features)\n",
    "new_input = np.array([[0.5, 0.3, 0.2, 0.4]])  # Must be 2D array\n",
    "predicted_output = model.predict(new_input)\n",
    "print(f\"Predicted output for {new_input[0]}: {predicted_output[0]:.4f}\")"
   ]
  },
  {
   "cell_type": "markdown",
   "id": "b2b32b5e",
   "metadata": {},
   "source": [
    "## SKL -> ONNX"
   ]
  },
  {
   "cell_type": "code",
   "execution_count": 19,
   "id": "9b93b386",
   "metadata": {},
   "outputs": [
    {
     "name": "stdout",
     "output_type": "stream",
     "text": [
      "Model converted to ONNX and saved as 'linear_regression.onnx'\n"
     ]
    }
   ],
   "source": [
    "from skl2onnx import convert_sklearn\n",
    "from skl2onnx.common.data_types import FloatTensorType\n",
    "\n",
    "# Define input shape (4 features)\n",
    "initial_type = [('float_input', FloatTensorType([None, 4]))]\n",
    "\n",
    "# Convert the model to ONNX\n",
    "onnx_model = convert_sklearn(model, initial_types=initial_type)\n",
    "\n",
    "# Save the ONNX model to a file\n",
    "with open(\"linear_regression.onnx\", \"wb\") as f:\n",
    "    f.write(onnx_model.SerializeToString())\n",
    "\n",
    "print(\"Model converted to ONNX and saved as 'linear_regression.onnx'\")"
   ]
  },
  {
   "cell_type": "markdown",
   "id": "321aaec3",
   "metadata": {},
   "source": [
    "## Preprocessor ONNX Model"
   ]
  },
  {
   "cell_type": "code",
   "execution_count": 20,
   "id": "b8f278df",
   "metadata": {},
   "outputs": [
    {
     "name": "stdout",
     "output_type": "stream",
     "text": [
      "Saved ONNX model to ./ap_expander.onnx\n"
     ]
    }
   ],
   "source": [
    "import numpy as np\n",
    "import onnx\n",
    "from onnx import helper, TensorProto\n",
    "\n",
    "# Define the \n",
    "# Input: scalar value (shape: [1])\n",
    "input_value = helper.make_tensor_value_info(\n",
    "    \"input\", TensorProto.FLOAT, [1]  # Input is a single float\n",
    ")\n",
    "\n",
    "# Output: 4 values (shape: [4])\n",
    "output_value = helper.make_tensor_value_info(\n",
    "    \"output\", TensorProto.FLOAT, [4]  # Output is 4 floats\n",
    ")\n",
    "\n",
    "# Nodes to compute output = [input, input+1, input+2, input+3]\n",
    "nodes = [\n",
    "    # Create constants for 1, 2, 3 (as floats)\n",
    "    helper.make_node(\n",
    "        \"Constant\", [], [\"one\"], value=helper.make_tensor(\"one\", TensorProto.FLOAT, [1], [1.0])\n",
    "    ),\n",
    "    helper.make_node(\n",
    "        \"Constant\", [], [\"two\"], value=helper.make_tensor(\"two\", TensorProto.FLOAT, [1], [2.0])\n",
    "    ),\n",
    "    helper.make_node(\n",
    "        \"Constant\", [], [\"three\"], value=helper.make_tensor(\"three\", TensorProto.FLOAT, [1], [3.0])\n",
    "    ),\n",
    "\n",
    "    # Compute input + 1, input + 2, input + 3\n",
    "    helper.make_node(\"Add\", [\"input\", \"one\"], [\"input_plus_1\"]),\n",
    "    helper.make_node(\"Add\", [\"input\", \"two\"], [\"input_plus_2\"]),\n",
    "    helper.make_node(\"Add\", [\"input\", \"three\"], [\"input_plus_3\"]),\n",
    "\n",
    "    # Concatenate all 4 values into a single tensor\n",
    "    helper.make_node(\n",
    "        \"Concat\", \n",
    "        [\"input\", \"input_plus_1\", \"input_plus_2\", \"input_plus_3\"], \n",
    "        [\"output\"],\n",
    "        axis=0  # Concatenate along the 0th axis\n",
    "    )\n",
    "]\n",
    "\n",
    "# Create the graph\n",
    "graph = helper.make_graph(\n",
    "    nodes,\n",
    "    \"AP_Expander_Graph\",\n",
    "    [input_value],\n",
    "    [output_value]\n",
    ")\n",
    "\n",
    "# Create the ONNX model\n",
    "model = helper.make_model(graph, producer_name=\"AP-Expander\")\n",
    "output_path = \"./ap_expander.onnx\"\n",
    "onnx.save(model, output_path)\n",
    "print(f\"Saved ONNX model to {output_path}\")\n"
   ]
  },
  {
   "cell_type": "code",
   "execution_count": 21,
   "id": "fe9538e2",
   "metadata": {},
   "outputs": [
    {
     "name": "stdout",
     "output_type": "stream",
     "text": [
      "Input: 2.0\n",
      "Output: [2. 3. 4. 5.]\n"
     ]
    }
   ],
   "source": [
    "import onnxruntime as rt\n",
    "import numpy as np\n",
    "\n",
    "# Load the ONNX model\n",
    "sess = rt.InferenceSession(\"ap_expander.onnx\", providers=[\"CPUExecutionProvider\"])\n",
    "\n",
    "# Test input (e.g., 2.0)\n",
    "input_name = sess.get_inputs()[0].name\n",
    "test_input = np.array([2.0], dtype=np.float32)  # Must be float32\n",
    "\n",
    "# Run inference\n",
    "output = sess.run(None, {input_name: test_input})[0]\n",
    "\n",
    "print(f\"Input: {test_input[0]}\")\n",
    "print(f\"Output: {output}\")  # Should be [2.0, 3.0, 4.0, 5.0]"
   ]
  },
  {
   "cell_type": "markdown",
   "id": "2b8cbd84",
   "metadata": {},
   "source": [
    "## Combine the Models"
   ]
  },
  {
   "cell_type": "code",
   "execution_count": 22,
   "id": "c2124c6c",
   "metadata": {},
   "outputs": [
    {
     "name": "stdout",
     "output_type": "stream",
     "text": [
      "Combined model saved as 'combined_model.onnx'\n"
     ]
    }
   ],
   "source": [
    "import onnx\n",
    "from onnx import version_converter\n",
    "from onnx.compose import merge_models\n",
    "\n",
    "# Load both models\n",
    "preprocessor = onnx.load(\"ap_expander.onnx\")\n",
    "lr_model = onnx.load(\"linear_regression.onnx\")\n",
    "preprocessor_opset21 = version_converter.convert_version(preprocessor, 21)\n",
    "\n",
    "# Combine them (preprocessor -> linear regression)\n",
    "combined_model = merge_models(\n",
    "    preprocessor_opset21,  # First model\n",
    "    lr_model,      # Second model\n",
    "    io_map=[(\"output\", \"float_input\")]  # Maps preprocessor's output to LR's input\n",
    ")\n",
    "\n",
    "# Save the combined model\n",
    "onnx.save(combined_model, \"combined_model.onnx\")\n",
    "print(\"Combined model saved as 'combined_model.onnx'\")"
   ]
  },
  {
   "cell_type": "code",
   "execution_count": 23,
   "id": "249a6397",
   "metadata": {},
   "outputs": [
    {
     "name": "stdout",
     "output_type": "stream",
     "text": [
      "Input: 2.0\n",
      "Prediction: [9.37778]\n"
     ]
    }
   ],
   "source": [
    "import onnxruntime as rt\n",
    "import numpy as np\n",
    "\n",
    "sess = rt.InferenceSession(\"combined_model.onnx\", providers=[\"CPUExecutionProvider\"])\n",
    "\n",
    "# Test input (e.g., 2.0)\n",
    "input_name = sess.get_inputs()[0].name\n",
    "test_input = np.array([2.0], dtype=np.float32)  # Must be float32\n",
    "\n",
    "# Run inference\n",
    "output = sess.run(None, {input_name: test_input})[0]\n",
    "print(f\"Input: {test_input[0]}\")\n",
    "print(f\"Prediction: {output[0]}\")"
   ]
  },
  {
   "cell_type": "code",
   "execution_count": null,
   "id": "c6fba1f3",
   "metadata": {},
   "outputs": [],
   "source": []
  }
 ],
 "metadata": {
  "kernelspec": {
   "display_name": ".venv",
   "language": "python",
   "name": "python3"
  },
  "language_info": {
   "codemirror_mode": {
    "name": "ipython",
    "version": 3
   },
   "file_extension": ".py",
   "mimetype": "text/x-python",
   "name": "python",
   "nbconvert_exporter": "python",
   "pygments_lexer": "ipython3",
   "version": "3.10.12"
  }
 },
 "nbformat": 4,
 "nbformat_minor": 5
}
